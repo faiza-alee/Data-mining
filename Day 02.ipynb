{
 "cells": [
  {
   "cell_type": "code",
   "execution_count": 1,
   "id": "bbe217ed-3cdd-44a6-b051-a830e06498cd",
   "metadata": {},
   "outputs": [],
   "source": [
    "import numpy as np"
   ]
  },
  {
   "cell_type": "code",
   "execution_count": 13,
   "id": "68e756f2-d72b-4c55-84cf-5c3899ac1a8c",
   "metadata": {},
   "outputs": [],
   "source": [
    "w1=5\n",
    "b1=2\n",
    "x=3"
   ]
  },
  {
   "cell_type": "code",
   "execution_count": 17,
   "id": "500862f7-01a0-4a2c-8509-07626351cc4b",
   "metadata": {},
   "outputs": [],
   "source": [
    "output=x*w1+b1"
   ]
  },
  {
   "cell_type": "code",
   "execution_count": 40,
   "id": "f34bdb15-ba1c-4056-91e2-580ac63a9e36",
   "metadata": {},
   "outputs": [
    {
     "data": {
      "text/plain": [
       "17"
      ]
     },
     "execution_count": 40,
     "metadata": {},
     "output_type": "execute_result"
    }
   ],
   "source": [
    "output"
   ]
  },
  {
   "cell_type": "code",
   "execution_count": 76,
   "id": "febec818-1e5f-434a-aa4d-8368a0364659",
   "metadata": {},
   "outputs": [],
   "source": [
    "import math\n",
    "\n",
    "def sigmoid(val):\n",
    "    return 1/(1+np.exp(-x))\n",
    "    "
   ]
  },
  {
   "cell_type": "code",
   "execution_count": 78,
   "id": "0a8b6df0-af65-4190-9573-6ec58938aa96",
   "metadata": {},
   "outputs": [
    {
     "data": {
      "text/plain": [
       "0.9525741268224334"
      ]
     },
     "execution_count": 78,
     "metadata": {},
     "output_type": "execute_result"
    }
   ],
   "source": [
    " sigmoid(x)"
   ]
  },
  {
   "cell_type": "code",
   "execution_count": 80,
   "id": "5828e207-92a0-4f94-96a8-174f7df25c1c",
   "metadata": {},
   "outputs": [],
   "source": [
    "prediction=sigmoid(output)"
   ]
  },
  {
   "cell_type": "code",
   "execution_count": 82,
   "id": "60d9bd79-1b2c-4042-bdb0-41279754eafb",
   "metadata": {},
   "outputs": [
    {
     "data": {
      "text/plain": [
       "0.9525741268224334"
      ]
     },
     "execution_count": 82,
     "metadata": {},
     "output_type": "execute_result"
    }
   ],
   "source": [
    "prediction"
   ]
  },
  {
   "cell_type": "code",
   "execution_count": 188,
   "id": "776c3f68-da97-45ab-bb71-5ce3f98a9080",
   "metadata": {},
   "outputs": [
    {
     "data": {
      "text/plain": [
       "array([ 35, 142])"
      ]
     },
     "execution_count": 188,
     "metadata": {},
     "output_type": "execute_result"
    }
   ],
   "source": [
    "w=np.array(([5 ,-2],[9, 73]) )\n",
    "w1=np.array(([4],[12] ))\n",
    "w2=np.array(([3],[10]))\n",
    "x=np.array(([3,2]))\n",
    "b1=2\n",
    "b2=-3\n",
    "b3=4\n",
    "out=np.dot(x,w)+b1\n",
    "out"
   ]
  },
  {
   "cell_type": "code",
   "execution_count": 180,
   "id": "d8b1d412-a691-49e7-831c-3d98f92aa8c8",
   "metadata": {},
   "outputs": [
    {
     "data": {
      "text/plain": [
       "array([0.95257413, 0.88079708])"
      ]
     },
     "execution_count": 180,
     "metadata": {},
     "output_type": "execute_result"
    }
   ],
   "source": [
    "\n",
    "prid=sigmoid(out)\n",
    "prid\n",
    "    "
   ]
  },
  {
   "cell_type": "code",
   "execution_count": 190,
   "id": "094981b1-e922-4c19-bf95-c9f0911f7728",
   "metadata": {},
   "outputs": [
    {
     "data": {
      "text/plain": [
       "array([1841])"
      ]
     },
     "execution_count": 190,
     "metadata": {},
     "output_type": "execute_result"
    }
   ],
   "source": [
    "out2=np.dot(out,w1)+b2\n",
    "out2 "
   ]
  },
  {
   "cell_type": "code",
   "execution_count": 194,
   "id": "9caf3a56-bae1-4bac-98fe-25ee8af6df8a",
   "metadata": {},
   "outputs": [
    {
     "ename": "ValueError",
     "evalue": "shapes (1,) and (2,1) not aligned: 1 (dim 0) != 2 (dim 0)",
     "output_type": "error",
     "traceback": [
      "\u001b[1;31m---------------------------------------------------------------------------\u001b[0m",
      "\u001b[1;31mValueError\u001b[0m                                Traceback (most recent call last)",
      "Cell \u001b[1;32mIn[194], line 1\u001b[0m\n\u001b[1;32m----> 1\u001b[0m out3\u001b[38;5;241m=\u001b[39mnp\u001b[38;5;241m.\u001b[39mdot(out2,w2)\u001b[38;5;241m+\u001b[39mb3\n",
      "\u001b[1;31mValueError\u001b[0m: shapes (1,) and (2,1) not aligned: 1 (dim 0) != 2 (dim 0)"
     ]
    }
   ],
   "source": [
    "out3=np.dot(out2,w2)+b3"
   ]
  },
  {
   "cell_type": "code",
   "execution_count": null,
   "id": "90287965-33c8-4acd-832d-540ae91d8ac0",
   "metadata": {},
   "outputs": [],
   "source": []
  }
 ],
 "metadata": {
  "kernelspec": {
   "display_name": "Python 3 (ipykernel)",
   "language": "python",
   "name": "python3"
  },
  "language_info": {
   "codemirror_mode": {
    "name": "ipython",
    "version": 3
   },
   "file_extension": ".py",
   "mimetype": "text/x-python",
   "name": "python",
   "nbconvert_exporter": "python",
   "pygments_lexer": "ipython3",
   "version": "3.12.4"
  }
 },
 "nbformat": 4,
 "nbformat_minor": 5
}
