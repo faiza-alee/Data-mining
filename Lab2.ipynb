{
 "cells": [
  {
   "cell_type": "code",
   "execution_count": 1,
   "id": "47de1591-39bb-4441-bcf5-e72dbf057b18",
   "metadata": {},
   "outputs": [],
   "source": [
    "import numpy as np"
   ]
  },
  {
   "cell_type": "code",
   "execution_count": 23,
   "id": "033bd61f-3842-4b42-b5dc-3493d8c20b9e",
   "metadata": {},
   "outputs": [],
   "source": [
    "W = np.array(([5, -2], [9, 73]), dtype=float)\n",
    "W2 = np.array(([4], [12]), dtype=float)\n",
    "b1 = 2\n",
    "b2 = -3"
   ]
  },
  {
   "cell_type": "code",
   "execution_count": 20,
   "id": "52a21144-c6a4-42ea-b526-43dd9be5738e",
   "metadata": {},
   "outputs": [],
   "source": [
    "x = np.array(([3, 2]), dtype=float)"
   ]
  },
  {
   "cell_type": "code",
   "execution_count": 29,
   "id": "e5ede3e2-a823-4656-b3b7-6d5789753b89",
   "metadata": {},
   "outputs": [
    {
     "data": {
      "text/plain": [
       "array([ 35., 142.])"
      ]
     },
     "execution_count": 29,
     "metadata": {},
     "output_type": "execute_result"
    }
   ],
   "source": [
    "output1 = np.dot(x, W) + b1\n",
    "output1"
   ]
  },
  {
   "cell_type": "code",
   "execution_count": 13,
   "id": "675a12f7-f228-4ebb-90fb-04282fd14c86",
   "metadata": {},
   "outputs": [],
   "source": [
    "def sigmoid(val):\n",
    "    return 1/(1+np.exp(-val))"
   ]
  },
  {
   "cell_type": "code",
   "execution_count": 15,
   "id": "41be6db9-8350-404d-8bf3-b0ffe0fc8288",
   "metadata": {},
   "outputs": [
    {
     "data": {
      "text/plain": [
       "0.9525741268224334"
      ]
     },
     "execution_count": 15,
     "metadata": {},
     "output_type": "execute_result"
    }
   ],
   "source": [
    "sigmoid(x)"
   ]
  },
  {
   "cell_type": "code",
   "execution_count": 28,
   "id": "b31fe287-06d2-4855-9b2d-b3e0851ae532",
   "metadata": {},
   "outputs": [
    {
     "data": {
      "text/plain": [
       "array([1., 1.])"
      ]
     },
     "execution_count": 28,
     "metadata": {},
     "output_type": "execute_result"
    }
   ],
   "source": [
    "prediction = sigmoid(output1)\n",
    "prediction"
   ]
  },
  {
   "cell_type": "code",
   "execution_count": 17,
   "id": "f81dd8d7-5ed0-40ae-87ee-14b27e67eea6",
   "metadata": {},
   "outputs": [],
   "source": [
    "prediction = prediction * 100"
   ]
  },
  {
   "cell_type": "code",
   "execution_count": 18,
   "id": "6372b8d5-86c6-4024-a400-3be88bef4762",
   "metadata": {},
   "outputs": [
    {
     "data": {
      "text/plain": [
       "99.99999586006244"
      ]
     },
     "execution_count": 18,
     "metadata": {},
     "output_type": "execute_result"
    }
   ],
   "source": [
    "prediction"
   ]
  },
  {
   "cell_type": "code",
   "execution_count": 30,
   "id": "aeaab4cd-a60b-403f-b851-8217042e1b35",
   "metadata": {},
   "outputs": [],
   "source": [
    "output_2 = np.dot(output1, W2) + b2"
   ]
  },
  {
   "cell_type": "code",
   "execution_count": 31,
   "id": "1f945d7c-007a-4f10-ae5c-6188e9b22e60",
   "metadata": {},
   "outputs": [
    {
     "data": {
      "text/plain": [
       "array([1841.])"
      ]
     },
     "execution_count": 31,
     "metadata": {},
     "output_type": "execute_result"
    }
   ],
   "source": [
    "output_2"
   ]
  },
  {
   "cell_type": "code",
   "execution_count": null,
   "id": "507bf1ac-e9c6-4ad0-9c89-ad10d8ab8779",
   "metadata": {},
   "outputs": [],
   "source": []
  }
 ],
 "metadata": {
  "kernelspec": {
   "display_name": "Python 3 (ipykernel)",
   "language": "python",
   "name": "python3"
  },
  "language_info": {
   "codemirror_mode": {
    "name": "ipython",
    "version": 3
   },
   "file_extension": ".py",
   "mimetype": "text/x-python",
   "name": "python",
   "nbconvert_exporter": "python",
   "pygments_lexer": "ipython3",
   "version": "3.11.7"
  }
 },
 "nbformat": 4,
 "nbformat_minor": 5
}
